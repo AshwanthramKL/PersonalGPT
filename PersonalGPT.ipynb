{
 "cells": [
  {
   "cell_type": "markdown",
   "metadata": {},
   "source": [
    "# Task: Data Extraction and VectorDB Creation"
   ]
  },
  {
   "cell_type": "code",
   "execution_count": 2,
   "metadata": {},
   "outputs": [
    {
     "name": "stderr",
     "output_type": "stream",
     "text": [
      "c:\\Users\\MARTIALEAGLE\\AppData\\Local\\Programs\\Python\\Python311\\Lib\\site-packages\\InstructorEmbedding\\instructor.py:7: TqdmExperimentalWarning: Using `tqdm.autonotebook.tqdm` in notebook mode. Use `tqdm.tqdm` instead to force console mode (e.g. in jupyter console)\n",
      "  from tqdm.autonotebook import trange\n"
     ]
    }
   ],
   "source": [
    "import fitz  # PyMuPDF\n",
    "import re\n",
    "import os"
   ]
  },
  {
   "cell_type": "code",
   "execution_count": 14,
   "metadata": {},
   "outputs": [
    {
     "data": {
      "text/plain": [
       "8"
      ]
     },
     "execution_count": 14,
     "metadata": {},
     "output_type": "execute_result"
    }
   ],
   "source": [
    "from langchain_community.document_loaders import DirectoryLoader\n",
    "\n",
    "# Load documents from a directory\n",
    "directory_path = './personalDocuments'\n",
    "loader = DirectoryLoader(directory_path, glob=\"**/*\")\n",
    "docs = loader.load()\n",
    "len(docs)"
   ]
  },
  {
   "cell_type": "code",
   "execution_count": 16,
   "metadata": {},
   "outputs": [
    {
     "data": {
      "text/plain": [
       "[Document(page_content='ASHWANTHRAM K L\\n\\n(cid:131) 8681849991 # k.l.ashwanthram@gmail.com (cid:239) ashwanthram § AshwanthramKL\\n\\nEDUCATION\\n\\nCoimbatore Institute of Technology, Coimbatore Bachelor of Engineering (B.E) Computer Science and Engineeering TECHNICAL SKILLS\\n\\n07/2020 – 05/2024\\n\\nProgramming Languages: Python, Javascript, C++ Frameworks & Libraries: Streamlit, Gradio, Langchain, Autogen (Multiagent), OpenAI Platform, together.ai, HuggingFace Prompt Engineering Techniques: Reﬂexion, Chain-of-thought, Tree-of-thought, In-Context Learning, ReAct, Expert Persona Prompting, Meta Prompting, Multi-Agent Debate Prompting Machine Learning: Large Language Models (LLMs), Retrieval Augmented Generation (RAG), LLM Finetuning, Information Retrieval, Transformers, Word2Vec, Node2Vec, NumPy, Scikit-Learn, Pandas, NLTK, Matplotlib, Tensorﬂow Software & Tools: FAISS, ChromaDB, LlamaIndex, Pinecone, MySQL, Git, Github, PromptLayer, AWS SageMaker, Google Colab, VS Code, Jupyter Notebooks, Linux, Windows\\n\\nEXPERIENCE\\n\\nFarmwiseAI Pvt Ltd Data Scientist Intern (GenAI)\\n\\n08/2023 – Present Chennai\\n\\nConstructed a topic tagging based recommendation system using LLMs for a text-based social media platform, enhancing user engagement by accurately tagging posts and user proﬁles.\\n\\nImplemented content routing based on topic tags to increase user participation in discussions by 25%. • Formulated and standardized Canonical Lists of Topics (CLOTs) for 10+ spaces by integrating Langchain’s SerpAPI Agent and LLMs for relevance scoring the topics, improving tagging accuracy by more than 30%.\\n\\nPROJECTS\\n\\nPdf Chat | Git\\n\\nDeveloped PdfChat with Llama2-7B, an interface for interactive research paper analysis. Utilized Langchain to chunk and tokenize text and employed all-MiniLM-L6-v2 sentence transformers to generate 384 dimensioned embeddings. • Established a Retrieval Augmented Generation (RAG) system using FAISS with cosine similarity, fetching the most\\n\\nrelevant chunks.\\n\\nEngineered Llama2 integration with the RAG system to enhance query processing, resulting in a 40% reduction in response time and a 25% increase in user satisfaction metrics.\\n\\nTravelMate AI\\n\\nOrchestrated an AI-driven chatbot for hotel reservations and trip planning using GPT-4-turbo and Langchain, integrating SERP API with Google APIs to enhance booking processes, resulting in a 20% increase in user bookings.\\n\\nExecuted personalized travel recommendations by leveraging user proﬁles and preferences, signiﬁcantly boosting user engagement and satisfaction by 30% through tailored suggestions for ﬂights, hotels, and attractions.\\n\\nAutomated customer service functions with the chatbot, reducing operational costs by 25% and improving booking efﬁciency, thereby enhancing overall user experience.\\n\\nCERTIFICATIONS\\n\\nGenerative AI with Large Language Models by Deeplearning.AI: Certiﬁcate\\n\\nPrompt Engineering for ChatGPT by Vanderbilt University : Certiﬁcate\\n\\nPython : Certiﬁcate\\n\\nACHIEVEMENTS\\n\\nQualiﬁed for ACM ICPC Regionals Amritapuri Region by ranking in the top 200 teams out of 1000+ teams.\\n\\nSelected for Buildspace nights & weekends S3, created a Discord community for home-schooled students, fostering improved communication and meaningful interactions.\\n\\nSecured second place in the Intra-College Smart India Hackathon 2023 among 75+ teams.\\n\\nPOSITIONS OF RESPONSIBILITY\\n\\nVice President Cryptera - CIT Coimbatore\\n\\n08/2022 - 12/2022\\n\\nDrove the attraction of close to 1500 attendees to the event. • Established the Referral Program responsible for bringing in 1/3rd of the participants. • Directed a group of 25+ event managers in the strategic scheduling and ﬂawless execution of events.', metadata={'source': 'personalDocuments\\\\AshwanthramResume_DS_GenAI.pdf'}),\n",
       " Document(page_content='Biodata of Alex Doe\\n\\nPersonal Information:\\n\\nName: Ashwanthram K L Date of Birth: May 18, 2002 Gender: Male Nationality: Indian Marital Status: Single Address: A 10, Sterling Lotus Apartments, 11th Street, TNHB Colony, Korattur, Chennai 80 Contact Information: Email: k.l.ashwanthram@gmail.com Phone: +91 8681849991\\n\\nPhysical Attributes:\\n\\nHeight: 5 feet 9inch (174cm) Weight: 130 lbs (59 kg) Blood Group: O+ Eye Color: Brown Hair Color: Black\\n\\nHealth Metrics:\\n\\nBlood Pressure: 120/80 mmHg\\n\\nHeart Rate: 72 bpm\\n\\nBMI: 19.5\\n\\nAllergies: None\\n\\nMedical Conditions:\\n\\nSpondylolysis of the L4\\n\\nL5\\n\\nSports and Hobbies:\\n\\nSports: * Football: Played at college level, continue to play recreationally. Enjoy participating in local tournaments. * Running: Regularly participate in local 5K and 10K races. Completed two half-marathons and currently training for a full marathon. * Cycling: Enjoy long-distance cycling trips on weekends. Participated in various charity cycling events. * Weightlifting: Avid weightlifter. Follows PUSH-PULL-LEG workout routine. Doesn\\'t like to do SQUATS, DEADLIFTS, BARBELL BENCH PRESS. Trains 6 times a week. Currently focusing on increasing weight while staying lean with a bodyfat percentage less than 15.\\n\\nHobbies: * Hiking: Passionate about exploring nature trails and national parks. Have hiked in several national parks across the country and enjoy weekend hikes with friends. * Technology: Keen interest in the latest tech trends and gadgets. Frequently attend tech meetups and conferences to stay updated with industry advancements. * Reading: Avid reader of science fiction and technology books. Favorite authors include Isaac Asimov, Philip K. Dick, and Ray Kurzweil. * Traveling: Love exploring new cultures and places. Have traveled to over 20 cities and plan annual trips to new destinations.\\n\\nEducation:\\n\\nBachelor of Engineering in Computer Science, Coimbatore Institute of Technology, 2024(Graduated) Courses Completed: Introduction to Computer Science - A Data Structures and Algorithms - A Machine Learning - A Artificial Intelligence - A Database Systems - B+ Natural Language Processing - A Software Engineering - A- Computer Networks - B Operating Systems - B+ Capstone Project: AI-Powered Chatbot Development - A\\n\\nProfessional Experience:\\n\\nAI Engineer at ABC Corp (2019 - 2023) Developed an AI-driven customer service chatbot. Led a team of AI engineers and mentored junior members. Improved customer satisfaction rates through innovative AI solutions. Integrated complex algorithms with user-friendly interfaces.\\n\\nSkills:\\n\\nProgramming Languages: Python, Javascript, C++ Frameworks & Libraries: Streamlit, Gradio, Langchain, Autogen (Multiagent), OpenAI Platform, together.ai, HuggingFace Prompt Engineering Techniques: Reflexion, Chain-of-thought, Tree-of-thought, In-Context Learning, ReAct, Expert Persona Prompting, Meta Prompting, Multi-Agent Debate Prompting Machine Learning: Large Language Models (LLMs), Retrieval Augmented Generation (RAG), LLM Finetuning, Information Retrieval, Transformers, Word2Vec, Node2Vec, NumPy, Scikit-Learn, Pandas, NLTK, Matplotlib, Tensorflow Software & Tools: FAISS, ChromaDB, LlamaIndex, Pinecone, MySQL, Git, Github, PromptLayer, AWS SageMaker, Google Colab, VS Code, Jupyter Notebooks, Linux, Window\\n\\nRecommendations:\\n\\nJane Smith, Head of AI Development, ABC Corp: \"Ashwanthram is a highly skilled AI engineer with a deep understanding of machine learning and NLP. His innovative thinking and dedication to excellence have significantly contributed to our projects.\"\\n\\nResearch Interests:\\n\\nExploring the integration of GPT\\n\\n4 with vector databases for improved information retrieval.\\n\\nPotential applications of RAG in customer service to provide more accurate and contextually relevant responses.\\n\\nInvestigating the use of AI in creative writing, particularly in generating story plots and character development. Personal Notes:\\n\\nProject Ideas: * AI-Enhanced Personal Finance Manager: Develop an AI system that analyzes spending habits, provides budget recommendations, and forecasts financial trends. Integrate with banking APIs for real-time data. * Health Monitoring Chatbot: Create a chatbot that offers personalized health advice based on user inputs and medical data. Utilize natural language processing to interpret user symptoms and provide relevant information.\\n\\nReferences:\\n\\nJane Smith: jane.smith@example.com, +1 234 567 8910', metadata={'source': 'personalDocuments\\\\Ashwanthram_Biodata.txt'}),\n",
       " Document(page_content='Bucket List - Ashwanthram\\n\\n1. Professional Achievements\\n\\nDevelop a Revolutionary AI Application: Within the next 5 years, create an AI application that significantly impacts the healthcare industry by reducing diagnostic errors by at least 20%.\\n\\nPublish Research Papers: Publish at least three research papers in top-tier AI journals and conferences (e.g., NeurIPS, ICML) within the next 3 years.\\n\\nSpeak at International Conferences: Secure speaking engagements at three international AI and tech conferences (e.g., TED, AI Summit) within the next 2 years.\\n\\nLead an AI Startup: Within 5 years, establish or join a startup as a co-founder or lead AI engineer, focused on innovative AI solutions, and achieve a minimum of $1 million in seed funding.\\n\\nAchieve Advanced AI Certifications: Obtain certifications such as TensorFlow Developer and AWS Certified Machine Learning within the next 12 months.\\n\\n2. Personal Health and Fitness\\n\\nComplete a Full Marathon: Train for and complete a full marathon (42.195 km) within the next 18 months, aiming for a finishing time under 4 hours.\\n\\nAchieve Personal Bests in Weightlifting: Set personal records in weightlifting, specifically: squat 200 lbs, deadlift 300 lbs, and bench press 150 lbs within the next year.\\n\\nBecome a Certified Yoga Instructor: Complete a 200-hour yoga teacher training program and obtain certification within the next 2 years.\\n\\nParticipate in a Triathlon: Train for and compete in an Olympic-distance triathlon (1.5 km swim, 40 km bike, 10 km run) within the next 2 years.\\n\\nHike the Appalachian Trail: Plan and complete a section hike of at least 100 miles on the Appalachian Trail within the next 3 years.\\n\\n3. Longevity and Biohacking\\n\\nImplement Advanced Biohacking Techniques: Within the next year, incorporate at least three advanced biohacking techniques (e.g., cryotherapy, NAD+ therapy, continuous glucose monitoring) into my routine and track improvements in key health metrics.\\n\\nAttend Longevity Conferences: Attend at least two major longevity conferences (e.g., RAADfest, Longevity Summit) within the next 2 years.\\n\\nCollaborate with Longevity Experts: Initiate and complete a collaborative project with a leading expert in the longevity field within the next 3 years.\\n\\nWrite a Book on Longevity: Research and write a comprehensive guide on longevity and biohacking, aiming to complete and publish the book within the next 4 years.\\n\\n4. Travel and Exploration\\n\\nVisit All Seven Continents: Plan and visit all seven continents within the next 5 years, ensuring immersive cultural experiences in each location.\\n\\nExplore National Parks: Visit and hike in at least 10 national parks in the United States within the next 3 years.\\n\\nPhotograph Wildlife in Africa: Within the next 2 years, go on a safari in Africa to capture wildlife photography and create a photo exhibition upon return.\\n\\nExperience the Northern Lights: Travel to a location like Norway or Iceland within the next 2 years to witness and photograph the Northern Lights.\\n\\nTake a Culinary Tour of Italy: Plan a 2-week culinary tour of Italy within the next 3 years, learning to cook traditional dishes from different regions.\\n\\n5. Personal Development and Hobbies\\n\\nLearn to Play a New Musical Instrument: Take lessons and achieve basic proficiency in playing the violin within the next 18 months.\\n\\nStart a Self-Help Podcast: Launch and produce a self-help podcast, releasing at least 20 episodes within the first year.\\n\\nPublish a Photography Book: Compile my best landscape and wildlife photographs into a book and publish it within the next 2 years.\\n\\nMaster a New Language: Achieve conversational fluency in Spanish through structured learning and practice within the next 2 years.\\n\\nVolunteer for a Cause: Dedicate at least 100 hours to volunteering for an environmental conservation project within the next year.\\n\\n6. Educational Goals\\n\\nPursue a PhD in AI: Enroll in a PhD program focused on artificial intelligence and complete the degree within the next 6 years.\\n\\nAttend a Coding Bootcamp: Participate in a coding bootcamp to learn a new programming language (e.g., Rust) within the next 12 months.\\n\\nTake Online Courses: Complete at least 5 online courses in emerging tech fields (e.g., blockchain, quantum computing) within the next 18 months.\\n\\nTeach an Online Course: Develop and teach an online course on AI and machine learning, enrolling at least 50 students within the first year.\\n\\n7. Life Experiences\\n\\nAttend the Olympic Games: Plan and attend the Olympic Games within the next 4 years, experiencing multiple events in person.\\n\\nSkydive: Complete a tandem skydive, overcoming my fear of heights, within the next 12 months.\\n\\nLive Abroad: Spend at least 6 months living in a different country to immerse myself in a new culture within the next 3 years.\\n\\nRun a Workshop or Seminar: Organize and run a workshop or seminar on AI, health, or longevity, attracting at least 50 participants within the next 2 years.\\n\\nWrite a Novel: Write and publish a novel, completing the manuscript within the next 3 years.\\n\\nThis detailed bucket list sets specific, measurable, achievable, relevant, and time-bound (SMART) goals across various facets of life, ensuring a clear path to personal and professional fulfillment.', metadata={'source': 'personalDocuments\\\\BucketList.md'}),\n",
       " Document(page_content='To Whom It May Concern,\\n\\nI am writing to wholeheartedly recommend Ashwanthram for any advanced role in the fields of artificial intelligence and machine learning. I had the pleasure of working with Ashwanthram at ABC Corp, where he served as an AI Engineer from 2019 to 2023. During this period, Ashwanthram consistently demonstrated exceptional technical skills, innovative thinking, and a strong commitment to excellence.\\n\\nAshwanthram played a pivotal role in our AI-driven projects, particularly in the development of our customer service chatbot. His expertise in generative AI and natural language processing was instrumental in creating a sophisticated system that significantly improved our customer satisfaction rates. The chatbot he developed not only handled customer inquiries efficiently but also provided personalized responses, enhancing the overall user experience. Ashwanthram\\'s ability to integrate complex algorithms with user-friendly interfaces was key to the success of this project.\\n\\nOne of Ashwanthram\\'s most remarkable qualities is his relentless pursuit of knowledge and innovation. He is always at the forefront of the latest advancements in AI technology, continuously exploring new methods and tools to enhance his work. His passion for generative AI is evident in the high-quality solutions he develops, pushing the boundaries of what AI can achieve. His dedication to continuous learning and improvement is truly inspiring.\\n\\nIn addition to his technical prowess, Ashwanthram is a natural leader and a dedicated team player. He frequently took the initiative to mentor junior engineers, sharing his knowledge and expertise generously. His collaborative spirit and excellent communication skills fostered a productive and positive work environment. Ashwanthram\\'s ability to work seamlessly with cross-functional teams ensured the successful completion of numerous projects.\\n\\nAshwanthram\\'s commitment to health, fitness, and longevity is also worth noting. He maintains a rigorous fitness regimen, which includes weightlifting, cardio, and yoga. His dedication to a balanced lifestyle not only contributes to his personal well-being but also enhances his professional performance. His interest in biohacking and longevity reflects his proactive approach to optimizing both health and productivity.\\n\\nFurthermore, Ashwanthram is an avid listener of self-help and personal development podcasts. His favorite podcasts include \"The Tim Ferriss Show,\" \"The Tony Robbins Podcast,\" and \"The School of Greatness\" by Lewis Howes. These podcasts have provided him with valuable insights and strategies for personal and professional growth, which he readily applies to his work and shares with his colleagues.\\n\\nI am confident that Ashwanthram will bring the same level of dedication, expertise, and innovative thinking to any future endeavors. His contributions to our team have been invaluable, and I am certain that he will continue to excel and make significant impacts in his future roles. It is without reservation that I recommend Ashwanthram for any position that requires a high degree of technical skill, leadership, and a passion for continuous improvement.\\n\\nSincerely,\\n\\nJane Smith Head of AI Development, ABC Corp jane.smith@abccorp.com +1 234 567 8910', metadata={'source': 'personalDocuments\\\\Letter_of_Recommendation.txt'}),\n",
       " Document(page_content=\"Contact\\n\\nk.l.ashwanthram@gmail.com\\n\\nwww.linkedin.com/in/ashwanthram (LinkedIn)\\n\\nTop Skills\\n\\nVector Databases\\n\\nLarge Language Models (LLM)\\n\\nRetrieval Augmented Generation (RAG)\\n\\nLanguages\\n\\nEnglish (Full Professional)\\n\\nTamil (Native or Bilingual)\\n\\nHindi (Elementary)\\n\\nCertifications\\n\\nJavaScript\\n\\nParticipated in the Guinness World Record Event\\n\\nJava(Basic)\\n\\nPython(Basic)\\n\\nProblem Solving (Basic)\\n\\nHonors-Awards\\n\\nACM ICPC\\n\\nAshwanthram K L\\n\\nData Scientist Intern @ FarmwiseAI Pvt Ltd | Large Language Models | GenAI | NLP | RAG Chennai, Tamil Nadu, India\\n\\nSummary\\n\\nOur team at FarmwiseAI Pvt Ltd is pioneering the integration of\\n\\nLanguage Models and Retrieval Augmented Generation, enhancing\\n\\nAI systems' decision-making capabilities. With a Bachelor of\\n\\nEngineering underway at Coimbatore Institute of Technology, my\\n\\nfocus is on pushing the boundaries of Generative AI. Specializing\\n\\nin Vector Databases, Large Language Models, and Retrieval\\n\\nAugmented Generation, I am driving innovation that couples\\n\\nacademic insights with industry applications.\\n\\nDuring my internship, I've utilized LLMs and built various LLM-\\n\\npowered applications leveraging tools and frameworks such as\\n\\nLangchain, LlamaIndex, ChromaDB, FAISS, etc...\\n\\nExperience\\n\\nFarmwiseAI Pvt Ltd Data Scientist August 2023 - Present (10 months) Chennai, Tamil Nadu, India\\n\\nDuring my tenure at FAI, I had the opportunity to work extensively with\\n\\nLanguage Models (LLMs) and Retrieval Augmented Generation (RAG). My\\n\\nprimary responsibilities included:\\n\\nDeveloping LLM powered applications.\\n\\nImplementing RAG models to enhance the decision-making capabilities of\\n\\nour AI systems.\\n\\nCollaborating with a team of data scientists and engineers to design and\\n\\ndeploy AI models.\\n\\nUtilizing various AI tools and frameworks such as Langchain, VectorDBs, etc.\\n\\nto build the applications.\\n\\nTioha Engineering Intern\\n\\nPage 1 of 2\\n\\nJune 2021 - September 2021 (4 months) Bengaluru, Karnataka, India\\n\\nAccomplished thorough testing of over 30 REST APIs using tools such as\\n\\nPostman, Swagger, and Wireshark.\\n\\nImplemented automation of more than 20 REST API tests using Postman\\n\\nscripts and node.js, resulting in a significant reduction of testing time by over\\n\\n50%.\\n\\nIdentified and resolved more than 15 logical and functional bugs and\\n\\ninconsistencies across design, front-end, and APIs.\\n\\nEducation\\n\\nCoimbatore Institute of Technology\\n\\nBachelor of Engineering - BE, Computer Science · (2020 - 2024)\\n\\nSBOA School & Junior College\\n\\nclass 12, Computer Science · (2006 - 2020)\\n\\nPage 2 of 2\", metadata={'source': 'personalDocuments\\\\LinkedIn_Profile.pdf'}),\n",
       " Document(page_content='About Ashwanthram Hello! I\\'m Ashwanthram, a tech enthusiast with a profound passion for generative AI, health, fitness, and longevity. Over the years, I\\'ve dedicated myself to exploring the cutting-edge advancements in technology, particularly in the field of artificial intelligence. My journey in tech began at an early age, and it has been an exhilarating ride ever since. From coding my first program in Python to developing complex AI models, I have always been driven by an insatiable curiosity and a desire to innovate.\\n\\nPassion for Generative AI Generative AI has revolutionized the way we approach problem-solving and creativity. My work in this field involves developing sophisticated algorithms that can generate new data, whether it\\'s text, images, or even music. I am particularly interested in how generative AI can be used to create personalized experiences and enhance user interactions. Through various projects, I\\'ve explored the capabilities of models like GPT-3 and beyond, pushing the boundaries of what AI can achieve. My research often focuses on improving the accuracy and efficiency of these models, making them more accessible and practical for real-world applications.\\n\\nCommitment to Health and Fitness Health and fitness are integral parts of my life. I believe that a sound body is essential for a sound mind, which is why I dedicate time every day to physical exercise and wellness practices. My fitness regimen includes a mix of weightlifting, cardio, and yoga, aimed at building strength, endurance, and flexibility. Additionally, I am a fervent advocate of a balanced diet and proper nutrition, which play crucial roles in achieving long-term health goals. My interest in fitness extends to biohacking and longevity, where I explore techniques and lifestyle changes that promote a longer, healthier life.\\n\\nLongevity and Biohacking Longevity is a fascinating field that merges science and lifestyle to extend healthy life spans. My pursuit of longevity involves studying the latest research in anti-aging, experimenting with various biohacking techniques, and applying these findings to daily life. From intermittent fasting and caloric restriction to advanced supplements and wearable technology, I am constantly seeking ways to optimize health and performance. The goal is not just to live longer, but to live better, maintaining high levels of physical and mental function throughout life.\\n\\nPodcast Enthusiast In addition to my professional and personal interests, I am an avid podcast listener, particularly drawn to self-help and personal development podcasts. Podcasts are a fantastic medium for learning and self-improvement, and I enjoy both consuming and sharing knowledge in this space. My favorite podcasts cover a wide range of topics, including mental health, productivity, mindfulness, and motivational stories. Listening to these podcasts has been a transformative experience, providing me with valuable insights and practical advice that I apply to my daily life.\\n\\nDetailed Insights into My Interests Technology and AI My journey in technology and AI is driven by a relentless pursuit of knowledge and innovation. I am particularly fascinated by how AI can transform industries and improve lives. My projects often involve working with cutting-edge technologies such as deep learning, natural language processing, and computer vision. I enjoy participating in hackathons and AI conferences, where I can collaborate with other experts and stay updated with the latest trends and breakthroughs.\\n\\nFitness Journey Fitness is not just a hobby; it\\'s a way of life. My fitness journey began in college when I realized the importance of physical health in achieving overall well-being. Over the years, I have tried various forms of exercise, from traditional gym workouts to outdoor activities like hiking and cycling. My current fitness routine includes weightlifting sessions five times a week, combined with cardio exercises like running and swimming. I also practice yoga regularly, which helps me stay flexible and manage stress.\\n\\nLongevity and Biohacking Practices My interest in longevity and biohacking stems from a desire to live a long, healthy, and fulfilling life. I follow a range of practices designed to enhance longevity, such as intermittent fasting, which has been shown to improve metabolic health and promote cellular repair. I also take a variety of supplements, including vitamins, minerals, and nootropics, to support brain health and cognitive function. Wearable technology, such as fitness trackers and sleep monitors, plays a crucial role in my biohacking regimen, providing valuable data that helps me optimize my health strategies.\\n\\nPodcast Listening Listening to self-help podcasts has become an essential part of my daily routine. These podcasts offer a wealth of knowledge on topics such as personal growth, mental health, and productivity. Some of my favorite podcasts include \"The Tim Ferriss Show,\" \"The Tony Robbins Podcast,\" and \"The School of Greatness\" by Lewis Howes. These shows feature interviews with experts and thought leaders who share their insights and strategies for achieving success and happiness. I find that listening to these podcasts during my workouts or commutes helps me stay motivated and focused on my goals.\\n\\nConclusion In summary, my life revolves around a few core passions: technology, generative AI, health, fitness, longevity, and self-help podcasts. I am committed to continuous learning and growth in these areas, and I love sharing my journey with others. Whether it\\'s through my work, my fitness routines, or my podcast recommendations, I aim to make a positive impact and contribute to the advancement of knowledge and well-being. Join me as I explore the frontiers of technology and health, and let\\'s embark on this journey of discovery and improvement together.', metadata={'source': 'personalDocuments\\\\Personal_Blog.txt'}),\n",
       " Document(page_content=\"Reading List\\n\\nBooks\\n\\n7 Habits of Highly Effective People\\n\\n12 Rules for Life\\n\\n21 Lessons for the 21st Century\\n\\n48 Laws of Power\\n\\n101 Essays That Will Change the Way You Think\\n\\nA Brief History of Time\\n\\nA Field Guide to Lies\\n\\nA Short History of Nearly Everything\\n\\nA Thousand Brains: A New Theory of Intelligence\\n\\nAccidental Genius\\n\\nAI Superpowers: China, Silicon Valley, And The New World Order\\n\\nAlchemy\\n\\nAlgorithms to Live By\\n\\nAntifragile\\n\\nAnything You Want\\n\\nAs a Man Thinketh\\n\\nAtomic Habits\\n\\nAttention Factory: The Story of TikTok and China's ByteDance\\n\\nAttitude is Everything\\n\\nAverage is Over\\n\\nAwaken the Giant Within\\n\\nBad Blood\\n\\nBE 2.0 (Beyond Entrepreneurship 2.0)\\n\\nBecoming\\n\\nBehave\\n\\nBenjamin Franklin: An American Life\\n\\nBeyond Good and Evil\\n\\nBeyond Order\\n\\nBeyond the Last Blue Mountain\\n\\nBig Magic: How to Live a Creative Life, and Let Go of Your Fear\\n\\nBlitzscaling\\n\\nBlue Ocean Strategy\\n\\nBuilt to Last\\n\\nBusiness Adventures\\n\\nCalling Bullshit\\n\\nCan't Hurt Me: Master Your Mind and Defy the Odds\\n\\nClean Code\\n\\nCLRS (Introduction to Algorithms)\\n\\nCoffee Can Investing\\n\\nCompeting Against Luck\\n\\nCompetitive Programmers Handbook\\n\\nCosmos\\n\\nCourage\\n\\nCracking the Coding Interview\\n\\nCritical Thinking for Dummies\\n\\nCrucial Conversations\\n\\nCrushing It\\n\\nDare to Lead: Brave Work. Tough Conversations. Whole Hearts.\\n\\nDaring Greatly\\n\\nDark Matter\\n\\nDelivering Happiness by Tony Hsieh\\n\\nDeveloping the Leader Within You 2.0\\n\\nDo Epic Shit\\n\\nDo It Today\\n\\nDopamine Nation\\n\\nDrive: The Surprising Truth About What Motivates Us\\n\\nEat That Frog\\n\\nEducated\\n\\nEffective Executive\\n\\nEgo is the Enemy\\n\\nEinstein: His Life and Universe\\n\\nElevate\\n\\nEmotional Intelligence\\n\\nEndurance: Shackleton's Incredible Voyage\\n\\nEssentialism\\n\\nEverything is Fucked\\n\\nEverything Store\\n\\nExtreme Ownership: How U.S. Navy SEALs Lead and Win\\n\\nFactfulness\\n\\nFinancial Affairs of the Common Man\\n\\nFinding Ultra\\n\\nFor the Love of Physics\\n\\nFounder's Dilemma\\n\\nFounders at Work\\n\\nGames People Play\\n\\nGet Backed: Craft Your Story, Build the Perfect Pitch Deck, and Launch the Venture of Your Dreams\\n\\nGetting Things Done\\n\\nGetting to Yes\\n\\nGive and Take: A Revolutionary Approach to Success\\n\\nGood to Great: Why Some Companies Make the Leap...and Others Don't\\n\\nGood Vibes, Good Life\\n\\nGreat by Choice\\n\\nGrit\\n\\nHappiness Hypothesis\\n\\nHappy Sexy Millionaire\\n\\nHard Thing About Hard Things\\n\\nHatching Twitter\\n\\nHell Yeah or No\\n\\nHigh Output Management\\n\\nHit Refresh\\n\\nHomo Deus\\n\\nHooked\\n\\nHow the Mighty Fall\\n\\nHow to be a Stoic\\n\\nHow to Become a People Magnet\\n\\nHow to Fail at Almost Everything and Still Win Big\\n\\nHow to Find Fulfilling Work\\n\\nHow to Make Money in Stocks\\n\\nHow to Stop Worrying and Start Living\\n\\nHow to Think Like a Roman Emperor\\n\\nHow to Win Friends and Influence People\\n\\nHyperfocus\\n\\nI Came as a Shadow\\n\\nIf the Universe is Teeming with Aliens... Where is Everybody?\\n\\nIkigai\\n\\nIndistractable\\n\\nInfluence\\n\\nInfluence: The Psychology of Persuasion\\n\\nInvent and Wander\\n\\nJab, Jab, Jab, Right Hook\\n\\nLean Analytics\\n\\nLeonardo da Vinci\\n\\nLife 3.0\\n\\nLinchpin\\n\\nLying\\n\\nMasters of Doom: How Two Guys Created an Empire and Transformed Pop Culture\\n\\nMaybe You Should Talk to Someone\\n\\nMeasure What Matters: OKRs: The Simple Idea that Drives 10x Growth\\n\\nMeditations by Marcus Aurelius\\n\\nMerchants of Doubt\\n\\nMindset: Changing the Way You Think to Fulfill Your Potential\\n\\nMoney Master the Game\\n\\nMultipliers\\n\\nMy Inventions: The Autobiography of Nikola Tesla\\n\\nNon-Violent Communication\\n\\nOne Up On Wall Street\\n\\nOnly the Paranoid Survive\\n\\nOur Final Invention\\n\\nOur Mathematical Universe\\n\\nOutliers\\n\\nPeak\\n\\nPhantoms in the Brain: Probing the Mysteries of the Human Mind\\n\\nPhilosopher of the Heart: The Restless Life of Søren Kierkegaard\\n\\nPivot\\n\\nPlatform Revolution\\n\\nPower of Creative Destruction\\n\\nPredictably Irrational\\n\\nProject Hail Mary\\n\\nPsycho-Cybernetics\\n\\nQuiet\\n\\nThe 4-Hour Workweek\\n\\nThe Art of Happiness\\n\\nThe Art of War\\n\\nThe Code Breaker\\n\\nThe Courage to Be Disliked\\n\\nThe Culture Code\\n\\nThe Fifth Discipline\\n\\nThe Four Agreements\\n\\nThe Future is Faster Than You Think\\n\\nThe Hard Thing About Hard Things\\n\\nThe Innovator's Dilemma\\n\\nThe Intelligent Investor\\n\\nThe Lean Startup\\n\\nThe Life-Changing Magic of Tidying Up\\n\\nThe Millionaire Next Door\\n\\nThe Minimalist Entrepreneur\\n\\nThe Obstacle is the Way\\n\\nThe Power of Habit\\n\\nThe Psychology of Money\\n\\nThe Ride of a Lifetime\\n\\nThe Subtle Art of Not Giving a F*ck\\n\\nThe Talent Code\\n\\nThe Tipping Point\\n\\nThink and Grow Rich\\n\\nThinking, Fast and Slow\\n\\nThis is Marketing\\n\\nTools of Titans\\n\\nTotal Recall: My Unbelievably True Life Story\\n\\nTribe of Mentors\\n\\nTrue North\\n\\nTurning Pro\\n\\nUnfu*k Yourself\\n\\nUnshakeable\\n\\nWay of the Wolf\\n\\nWhat Got You Here Won't Get You There\\n\\nWhen Breath Becomes Air\\n\\nWillpower Doesn't Work\\n\\nZero to One\\n\\nNovels\\n\\n1984\\n\\nA Man Called Ove\\n\\nA Scanner Darkly\\n\\nAltered Carbon\\n\\nAmatka\\n\\nAmmonite\\n\\nAnd Then There Were None\\n\\nAtlas Shrugged\\n\\nBrave New World\\n\\nChildren of Time\\n\\nConsider Phlebas\\n\\nCrime and Punishment\\n\\nDavid Copperfield\\n\\nDon Quixote\\n\\nDownbelow Station\\n\\nDune\\n\\nFahrenheit 451\\n\\nFoundation\\n\\nFrankenstein\\n\\nHamlet\\n\\nInvisible Man\\n\\nKafka on the Shore\\n\\nKlara and the Sun\\n\\nLes Miserables\\n\\nMadame Bovary\\n\\nMan's Search for Meaning\\n\\nMerchant of Venice\\n\\nMetro 2033\\n\\nMoby Dick\\n\\nNeuromancer\\n\\nOne Hundred Years of Solitude\\n\\nPale Fire\\n\\nPride and Prejudice\\n\\nThe Great Gatsby\\n\\nThe Road\\n\\nTo Kill a Mockingbird\\n\\nWar and Peace\\n\\nWhite Teeth\", metadata={'source': 'personalDocuments\\\\ReadingList.md'}),\n",
       " Document(page_content='Ashwanthram\\'s Comprehensive Workout Routine\\n\\nPersonal Information\\n\\nName: Ashwanthram\\n\\nFitness Goals: Build muscle, improve cardiovascular health, and enhance overall fitness.\\n\\nWeekly Workout Routine\\n\\nGym Routine: Push-Pull-Leg (6 Days)\\n\\nDay 1: Push (Chest, Shoulders, Triceps)\\n\\nWarm-Up:\\n\\n5-10 minutes of light cardio (treadmill, stationary bike)\\n\\nDynamic stretches\\n\\nWorkout:\\n\\nDumbbell Incline Press - 4 sets of 8-12 reps\\n\\nDumbbell Shoulder Press - 4 sets of 8-12 reps\\n\\nChest Dips (Assisted if needed) - 3 sets of 10-15 reps\\n\\nLateral Raises - 4 sets of 12-15 reps\\n\\nCable Flyes - 3 sets of 12-15 reps\\n\\nOverhead Tricep Extension (Dumbbell or Cable) - 3 sets of 10-12 reps\\n\\nTricep Pushdowns - 3 sets of 10-12 reps\\n\\nCool Down:\\n\\nStretching exercises focusing on chest, shoulders, and triceps\\n\\nDay 2: Pull (Back, Biceps)\\n\\nWarm-Up:\\n\\n5-10 minutes of light cardio\\n\\nDynamic stretches\\n\\nWorkout:\\n\\nPull-Ups (Assisted if needed) - 4 sets of 6-10 reps\\n\\nSingle-Arm Dumbbell Rows - 4 sets of 8-12 reps per arm\\n\\nSeated Cable Rows - 3 sets of 10-12 reps\\n\\nFace Pulls - 3 sets of 12-15 reps\\n\\nIncline Dumbbell Curls - 3 sets of 10-12 reps\\n\\nHammer Curls - 3 sets of 10-12 reps\\n\\nCable Reverse Curls - 3 sets of 12-15 reps\\n\\nCool Down:\\n\\nStretching exercises focusing on back and biceps\\n\\nDay 3: Legs (Quads, Hamstrings, Calves)\\n\\nWarm-Up:\\n\\n5-10 minutes of light cardio\\n\\nDynamic stretches\\n\\nWorkout:\\n\\nLeg Press - 4 sets of 10-15 reps\\n\\nLunges (Walking or Stationary) - 3 sets of 12-15 reps per leg\\n\\nLeg Extensions - 3 sets of 12-15 reps\\n\\nLeg Curls (Seated or Lying) - 4 sets of 10-12 reps\\n\\nStanding Calf Raises - 4 sets of 12-15 reps\\n\\nSeated Calf Raises - 3 sets of 12-15 reps\\n\\nCool Down:\\n\\nStretching exercises focusing on quads, hamstrings, and calves\\n\\nDay 4: Push (Chest, Shoulders, Triceps)\\n\\nWarm-Up:\\n\\n5-10 minutes of light cardio\\n\\nDynamic stretches\\n\\nWorkout:\\n\\nDumbbell Flat Bench Press - 4 sets of 8-12 reps\\n\\nArnold Press - 4 sets of 8-12 reps\\n\\nIncline Dumbbell Flyes - 3 sets of 10-12 reps\\n\\nFront Raises - 3 sets of 12-15 reps\\n\\nCable Crossovers - 3 sets of 12-15 reps\\n\\nSkull Crushers (EZ Bar or Dumbbell) - 3 sets of 10-12 reps\\n\\nTricep Kickbacks - 3 sets of 10-12 reps\\n\\nCool Down:\\n\\nStretching exercises focusing on chest, shoulders, and triceps\\n\\nDay 5: Pull (Back, Biceps)\\n\\nWarm-Up:\\n\\n5-10 minutes of light cardio\\n\\nDynamic stretches\\n\\nWorkout:\\n\\nLat Pulldowns - 4 sets of 8-12 reps\\n\\nT-Bar Rows - 4 sets of 8-12 reps\\n\\nBent Over Dumbbell Rows - 3 sets of 10-12 reps\\n\\nRear Delt Flyes - 3 sets of 12-15 reps\\n\\nConcentration Curls - 3 sets of 10-12 reps per arm\\n\\nEZ Bar Curls - 3 sets of 10-12 reps\\n\\nCable Rope Curls - 3 sets of 12-15 reps\\n\\nCool Down:\\n\\nStretching exercises focusing on back and biceps\\n\\nDay 6: Legs (Quads, Hamstrings, Calves)\\n\\nWarm-Up:\\n\\n5-10 minutes of light cardio\\n\\nDynamic stretches\\n\\nWorkout:\\n\\nHack Squats - 4 sets of 10-15 reps\\n\\nBulgarian Split Squats - 3 sets of 12-15 reps per leg\\n\\nLeg Press (Narrow Stance) - 3 sets of 10-12 reps\\n\\nRomanian Deadlifts (Dumbbell or Smith Machine) - 4 sets of 10-12 reps\\n\\nCalf Press on Leg Press Machine - 4 sets of 12-15 reps\\n\\nDonkey Calf Raises - 3 sets of 12-15 reps\\n\\nCool Down:\\n\\nStretching exercises focusing on quads, hamstrings, and calves\\n\\nDay 7: Rest Day\\n\\nRest and recover. Focus on light stretching or yoga to enhance flexibility and aid muscle recovery.\\n\\nRunning Routine\\n\\nWeekly Plan:\\n\\nDay 1: Interval Training - 5 minutes warm-up, 1-minute sprint, 2-minute walk, repeat 8 times, 5 minutes cool down.\\n\\nDay 2: Steady State Run - 5 km run at a moderate pace.\\n\\nDay 3: Hill Repeats - 5 minutes warm-up, run uphill for 30 seconds, walk down, repeat 10 times, 5 minutes cool down.\\n\\nDay 4: Rest or light jog (3 km).\\n\\nDay 5: Long Run - 10 km run at a comfortable pace.\\n\\nDay 6: Tempo Run - 5 minutes warm-up, 20 minutes at a challenging pace, 5 minutes cool down.\\n\\nDay 7: Rest.\\n\\nMusic Playlist for Workouts\\n\\nPush Day Playlist:\\n\\n\"Eye of the Tiger\" - Survivor\\n\\n\"Stronger\" - Kanye West\\n\\n\"Can\\'t Hold Us\" - Macklemore & Ryan Lewis\\n\\n\"Lose Yourself\" - Eminem\\n\\n\"Power\" - Kanye West\\n\\nPull Day Playlist:\\n\\n\"Enter Sandman\" - Metallica\\n\\n\"Back in Black\" - AC/DC\\n\\n\"Thunderstruck\" - AC/DC\\n\\n\"Remember the Name\" - Fort Minor\\n\\n\"Seven Nation Army\" - The White Stripes\\n\\nLeg Day Playlist:\\n\\n\"Till I Collapse\" - Eminem\\n\\n\"Born to Run\" - Bruce Springsteen\\n\\n\"Jump\" - Van Halen\\n\\n\"Radioactive\" - Imagine Dragons\\n\\n\"Run Boy Run\" - Woodkid\\n\\nRunning Playlist:\\n\\n\"Run the World (Girls)\" - Beyoncé\\n\\n\"Shut Up and Dance\" - WALK THE MOON\\n\\n\"Run This Town\" - Jay-Z ft. Rihanna and Kanye West\\n\\n\"Titanium\" - David Guetta ft. Sia\\n\\n\"Uptown Funk\" - Mark Ronson ft. Bruno Mars\\n\\nNutrition and Calorie Metrics\\n\\nDaily Caloric Needs\\n\\nMaintenance Calories: 2000 calories\\n\\nGoal: 2500 calories\\n\\nMacronutrient Ratio (PCF - Protein, Carbs, Fats)\\n\\nProtein: 2.6-3.3 grams per kilogram of body weight (to support muscle growth and recovery)\\n\\nCarbohydrates: 4.4-6.6 grams per kilogram of body weight (for energy during workouts)\\n\\nFats: 0.9-1.1 grams per kilogram of body weight (essential for hormone production and overall health)\\n\\nSample Daily Intake (Assuming 2,500 Calories)\\n\\nProtein: 154-210 grams (616-840 calories)\\n\\nCarbohydrates: 308-462 grams (1,232-1,848 calories)\\n\\nFats: 63-77 grams (567-693 calories)\\n\\nMeal Plan for One Day\\n\\nPre-Workout Snack\\n\\nBanana with Peanut Butter\\n\\nCalories: 200\\n\\nProtein: 4g\\n\\nCarbs: 27g\\n\\nFats: 9g\\n\\nBreakfast\\n\\nOatmeal with Berries and Almonds\\n\\nCalories: 400\\n\\nProtein: 10g\\n\\nCarbs: 60g\\n\\nFats: 15g\\n\\nLunch\\n\\nGrilled Chicken Breast with Quinoa and Vegetables\\n\\nCalories: 600\\n\\nProtein: 45g\\n\\nCarbs: 50g\\n\\nFats: 20g\\n\\nAfternoon Snack\\n\\nGreek Yogurt with Honey and Nuts\\n\\nCalories: 250\\n\\nProtein: 15g\\n\\nCarbs: 30g\\n\\nFats: 8g\\n\\nDinner\\n\\nSalmon with Brown Rice and Asparagus\\n\\nCalories: 600\\n\\nProtein: 40g\\n\\nCarbs: 50g\\n\\nFats: 20g\\n\\nPost-Workout Shake\\n\\nProtein Shake with Spinach and Banana\\n\\nCalories: 300\\n\\nProtein: 30g\\n\\nCarbs: 45g\\n\\nFats: 4g\\n\\nHydration\\n\\nDrink at least 2-3 liters of water daily.\\n\\nConsider electrolyte drinks for long workouts.\\n\\nRecovery\\n\\nPrioritize sleep (7-9 hours per night).\\n\\nUse foam rollers and massage tools for muscle recovery.\\n\\nIncorporate active recovery days with light activities like walking or yoga.', metadata={'source': 'personalDocuments\\\\WorkoutRoutine.md'})]"
      ]
     },
     "execution_count": 16,
     "metadata": {},
     "output_type": "execute_result"
    }
   ],
   "source": [
    "docs"
   ]
  },
  {
   "cell_type": "code",
   "execution_count": 21,
   "metadata": {},
   "outputs": [],
   "source": [
    "from langchain_text_splitters import RecursiveCharacterTextSplitter\n",
    "\n",
    "# Initialize the RecursiveCharacterTextSplitter\n",
    "text_splitter = RecursiveCharacterTextSplitter(\n",
    "    # Set a really small chunk size, just to show.\n",
    "    chunk_size=512,  # Since max input seq of embeddings model is 512 \n",
    "    chunk_overlap=100,  # 1: 5 ratio\n",
    "    length_function=len,\n",
    "    is_separator_regex=False,\n",
    ")\n",
    "\n",
    "# Split the documents into chunks\n",
    "text_chunks = text_splitter.split_documents(docs)"
   ]
  },
  {
   "cell_type": "code",
   "execution_count": 22,
   "metadata": {},
   "outputs": [
    {
     "name": "stdout",
     "output_type": "stream",
     "text": [
      "load INSTRUCTOR_Transformer\n"
     ]
    },
    {
     "name": "stderr",
     "output_type": "stream",
     "text": [
      "c:\\Users\\MARTIALEAGLE\\AppData\\Local\\Programs\\Python\\Python311\\Lib\\site-packages\\torch\\_utils.py:776: UserWarning: TypedStorage is deprecated. It will be removed in the future and UntypedStorage will be the only storage class. This should only matter to you if you are using storages directly.  To access UntypedStorage directly, use tensor.untyped_storage() instead of tensor.storage()\n",
      "  return self.fget.__get__(instance, owner)()\n"
     ]
    },
    {
     "name": "stdout",
     "output_type": "stream",
     "text": [
      "max_seq_length  512\n"
     ]
    }
   ],
   "source": [
    "from langchain_community.vectorstores import FAISS\n",
    "from InstructorEmbedding import INSTRUCTOR\n",
    "pip install -U langchain-community\n",
    "from langchain_community.embeddings import HuggingFaceInstructEmbeddings\n",
    "\n",
    "# Initialise the embedding model\n",
    "embedding_model = HuggingFaceInstructEmbeddings(model_name='hkunlp/instructor-xl')\n",
    "\n",
    "# Build FAISS vector store\n",
    "vector_store = FAISS.from_documents(text_chunks, embedding_model, normalize_L2=True)\n",
    "vector_store.save_local('vectorstore')"
   ]
  },
  {
   "cell_type": "markdown",
   "metadata": {},
   "source": [
    "# Task: Query Formulation and Retrieval"
   ]
  },
  {
   "cell_type": "code",
   "execution_count": 41,
   "metadata": {},
   "outputs": [],
   "source": [
    "from langchain.vectorstores import FAISS\n",
    "from InstructorEmbedding import INSTRUCTOR\n",
    "from langchain.embeddings import HuggingFaceInstructEmbeddings\n",
    "\n",
    "import streamlit as st\n",
    "import os\n",
    "from langchain.chat_models import ChatOpenAI\n",
    "from langchain.schema import StrOutputParser\n",
    "from langchain_core.runnables import RunnablePassthrough\n",
    "from langchain.prompts import ChatPromptTemplate, MessagesPlaceholder\n",
    "from langchain_core.messages import AIMessage, HumanMessage"
   ]
  },
  {
   "cell_type": "code",
   "execution_count": 25,
   "metadata": {},
   "outputs": [
    {
     "name": "stdout",
     "output_type": "stream",
     "text": [
      "load INSTRUCTOR_Transformer\n",
      "max_seq_length  512\n"
     ]
    }
   ],
   "source": [
    "# Load the vectordb from local storage\n",
    "new_db = FAISS.load_local(\"vectorstore\", HuggingFaceInstructEmbeddings(model_name='hkunlp/instructor-xl'))"
   ]
  },
  {
   "cell_type": "code",
   "execution_count": 53,
   "metadata": {},
   "outputs": [],
   "source": [
    "# Retriever\n",
    "retriever = new_db.as_retriever(search_kwargs={\"k\": 7, \"hnsw:space\": \"cosine\"})\n"
   ]
  },
  {
   "cell_type": "code",
   "execution_count": 40,
   "metadata": {},
   "outputs": [],
   "source": [
    "from dotenv import load_dotenv\n",
    "\n",
    "# Set api key\n",
    "load_dotenv(\"D:\\FarmwiseAI\\Reddit\\.env\")\n",
    "\n",
    "# Load the API key from the environment\n",
    "api_key = os.environ.get(\"OPENAI_API_KEY\")\n",
    "os.environ[\"OPENAI_API_KEY\"] = api_key\n",
    "\n",
    "# Language Model\n",
    "llm = ChatOpenAI(model=\"gpt-4-1106-preview\", temperature=0, model_kwargs={\"top_p\": 0.5})"
   ]
  },
  {
   "cell_type": "code",
   "execution_count": 43,
   "metadata": {},
   "outputs": [],
   "source": [
    "condense_q_system_prompt = \"\"\"Given a chat history and the latest user question \\\n",
    "which might reference the chat history, formulate a standalone question \\\n",
    "which can be understood without the chat history. Do NOT answer the question, \\\n",
    "just reformulate it if needed and otherwise return it as is.\"\"\"\n",
    "condense_q_prompt = ChatPromptTemplate.from_messages(\n",
    "    [\n",
    "        (\"system\", condense_q_system_prompt),\n",
    "        MessagesPlaceholder(variable_name=\"chat_history\"),\n",
    "        (\"human\", \"{question}\"),\n",
    "    ]\n",
    ")\n",
    "condense_q_chain = condense_q_prompt | llm | StrOutputParser()"
   ]
  },
  {
   "cell_type": "code",
   "execution_count": 44,
   "metadata": {},
   "outputs": [],
   "source": [
    "qa_system_prompt = \"\"\"You are an AI assistant designed to provide comprehensive information about Ashwanthram. Your primary role is to help users understand various aspects of Ashwanthram's life, work, interests, achievements, etc. based on the context provided. Below is a detailed guide on how to interact and provide valuable assistance:\n",
    "\n",
    "User Profile:\n",
    "Name: Ashwanthram\n",
    "Profession: GenAI Data Scientist\n",
    "Experience: 10 months working with LLMs and RAG to build applications such as an LLM-powered social media recommendation system and a personalized travel planner application.\n",
    "Interests: Tech, generative AI, health, fitness, longevity, self-help podcasts, and working out.\n",
    "\n",
    "Interaction Guidelines:\n",
    "* Be Clear and Informative: Provide detailed and accurate information about Ashwanthram. Avoid overly technical jargon unless necessary.\n",
    "* Be Supportive and Encouraging: Encourage users to learn more about Ashwanthram's interests and achievements. Offer positive reinforcement.\n",
    "* Be Detailed and Comprehensive: Provide in-depth information about Ashwanthram's work, interests, and achievements. Include relevant examples and details.\n",
    "\n",
    "Example Dialogue:\n",
    "User: Can you tell me about Ashwanthram's professional background?\n",
    "\n",
    "AI Assistant: Ashwanthram is a GenAI Data Scientist with 9 months of experience working with Large Language Models (LLMs) and Retrieval-Augmented Generation (RAG). He has developed applications such as an LLM-powered social media recommendation system and a personalized travel planner application. He is passionate about continuing to leverage LLMs and work on cutting-edge technologies.\n",
    "\n",
    "Context:\n",
    "{context}\"\"\"\n",
    "\n",
    "qa_prompt = ChatPromptTemplate.from_messages(\n",
    "    [\n",
    "        (\"system\", qa_system_prompt),\n",
    "        MessagesPlaceholder(variable_name=\"chat_history\"),\n",
    "        (\"human\", \"{question}\"),\n",
    "    ]\n",
    ")\n",
    "\n",
    "def format_docs(documents):\n",
    "    return \"\\n\\n\".join(document.page_content for document in documents)\n",
    "\n",
    "def condense_question(input: dict):\n",
    "    if input.get(\"chat_history\"):\n",
    "        return condense_q_chain\n",
    "    else:\n",
    "        return input[\"question\"]\n",
    "\n",
    "rag_chain = (\n",
    "    RunnablePassthrough.assign(context=condense_question | retriever | format_docs)\n",
    "    | qa_prompt\n",
    "    | llm\n",
    ")"
   ]
  },
  {
   "cell_type": "code",
   "execution_count": 49,
   "metadata": {},
   "outputs": [
    {
     "data": {
      "text/plain": [
       "DeltaGenerator()"
      ]
     },
     "execution_count": 49,
     "metadata": {},
     "output_type": "execute_result"
    }
   ],
   "source": [
    "# Initialize chat history\n",
    "chat_history = []\n",
    "\n",
    "# Streamlit app setup\n",
    "# Set page configuration with title and layout\n",
    "st.set_page_config(page_title='Ashwanth\\'s Personal AI Assistant', layout='wide')\n",
    "\n",
    "st.title(\"Ashwanth's Personal AI Assistant\")\n",
    "\n",
    "# Initialize session state for chat history if not already present\n",
    "if 'chat_history' not in st.session_state:\n",
    "    st.session_state.chat_history = []\n",
    "\n",
    "# Function to handle message sending\n",
    "def send_message():\n",
    "    user_input = st.session_state.user_input\n",
    "    if user_input:\n",
    "        # Process user message\n",
    "        ai_msg = rag_chain.invoke({\"question\": user_input, \"chat_history\": st.session_state['chat_history']})\n",
    "        st.session_state['chat_history'].extend([HumanMessage(content=user_input), ai_msg])\n",
    "        # Print chat history for debugging\n",
    "        print(\"Updated chat history:\", st.session_state['chat_history'])\n",
    "\n",
    "\n",
    "        # Clear the input box\n",
    "        st.session_state.user_input = \"\"\n",
    "\n",
    "# Use columns for better layout\n",
    "col1, col2 = st.columns([3, 1])\n",
    "\n",
    "# Container for chat history\n",
    "# Initialize session state for chat history if not already present\n",
    "if 'chat_history' not in st.session_state:\n",
    "    st.session_state.chat_history = []\n",
    "\n",
    "# Container for user input\n",
    "with col2:\n",
    "    with st.container():\n",
    "        # Text input for user message\n",
    "        # user_input = st.text_input(\"Your message:\", key=\"user_input\", on_change=send_message, args=())\n",
    "        user_input = st.text_area(\"Your message:\", key=\"user_input\", on_change=send_message, args=(), height=500)\n",
    "        \n",
    "        # Send button\n",
    "        send_btn = st.button(\"Send\", on_click=send_message)\n",
    "        \n",
    "# CSS for making the first column scrollable\n",
    "css='''\n",
    "<style>\n",
    "    section.main>div {\n",
    "        padding-bottom: 1rem;\n",
    "    }\n",
    "    [data-testid=\"column\"]>div>div>div>div>div {\n",
    "        overflow: auto;\n",
    "        height: 80vh;\n",
    "    }\n",
    "</style>\n",
    "'''\n",
    "\n",
    "st.markdown(css, unsafe_allow_html=True)\n",
    "\n",
    "# JavaScript to manage the scroll position\n",
    "scroll_js = \"\"\"\n",
    "<script>\n",
    "function maintainScrollPosition(){\n",
    "    var container = document.querySelector(\"[data-testid='column']>div>div>div>div>div\");\n",
    "    var scrollPosition = localStorage.getItem('scrollPosition');\n",
    "    if (scrollPosition) {\n",
    "        container.scrollTop = scrollPosition;\n",
    "    }\n",
    "    container.addEventListener('scroll', function() {\n",
    "        localStorage.setItem('scrollPosition', container.scrollTop);\n",
    "    });\n",
    "}\n",
    "// Call the function when the page loads\n",
    "setTimeout(maintainScrollPosition, 500);\n",
    "</script>\n",
    "\"\"\"\n",
    "\n",
    "st.markdown(scroll_js, unsafe_allow_html=True)\n"
   ]
  },
  {
   "cell_type": "code",
   "execution_count": 56,
   "metadata": {},
   "outputs": [],
   "source": [
    "!streamlit run streamlit_app.py"
   ]
  }
 ],
 "metadata": {
  "kernelspec": {
   "display_name": "Python 3",
   "language": "python",
   "name": "python3"
  },
  "language_info": {
   "codemirror_mode": {
    "name": "ipython",
    "version": 3
   },
   "file_extension": ".py",
   "mimetype": "text/x-python",
   "name": "python",
   "nbconvert_exporter": "python",
   "pygments_lexer": "ipython3",
   "version": "3.11.3"
  }
 },
 "nbformat": 4,
 "nbformat_minor": 2
}
